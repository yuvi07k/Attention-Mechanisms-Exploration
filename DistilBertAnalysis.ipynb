{
  "nbformat": 4,
  "nbformat_minor": 0,
  "metadata": {
    "colab": {
      "provenance": [],
      "machine_shape": "hm",
      "gpuType": "L4"
    },
    "kernelspec": {
      "name": "python3",
      "display_name": "Python 3"
    },
    "language_info": {
      "name": "python"
    },
    "accelerator": "GPU",
    "widgets": {
      "application/vnd.jupyter.widget-state+json": {
        "4a193dbe456b4bfca89915210bf1c19e": {
          "model_module": "@jupyter-widgets/controls",
          "model_name": "HBoxModel",
          "model_module_version": "1.5.0",
          "state": {
            "_dom_classes": [],
            "_model_module": "@jupyter-widgets/controls",
            "_model_module_version": "1.5.0",
            "_model_name": "HBoxModel",
            "_view_count": null,
            "_view_module": "@jupyter-widgets/controls",
            "_view_module_version": "1.5.0",
            "_view_name": "HBoxView",
            "box_style": "",
            "children": [
              "IPY_MODEL_40ca52587daf443487e9ffdf050fe09b",
              "IPY_MODEL_c43f655ea2ff4c5cb41762af92c06492",
              "IPY_MODEL_3ce14d95cdcb4502a708f69b0c82ca49"
            ],
            "layout": "IPY_MODEL_a0861d2783b9411492faf89f49a70291"
          }
        },
        "40ca52587daf443487e9ffdf050fe09b": {
          "model_module": "@jupyter-widgets/controls",
          "model_name": "HTMLModel",
          "model_module_version": "1.5.0",
          "state": {
            "_dom_classes": [],
            "_model_module": "@jupyter-widgets/controls",
            "_model_module_version": "1.5.0",
            "_model_name": "HTMLModel",
            "_view_count": null,
            "_view_module": "@jupyter-widgets/controls",
            "_view_module_version": "1.5.0",
            "_view_name": "HTMLView",
            "description": "",
            "description_tooltip": null,
            "layout": "IPY_MODEL_ed6d9ed5769642aa9cc3b553c27ae334",
            "placeholder": "​",
            "style": "IPY_MODEL_43739cbae3ec452d96aad2eb6e66dc13",
            "value": "Map: 100%"
          }
        },
        "c43f655ea2ff4c5cb41762af92c06492": {
          "model_module": "@jupyter-widgets/controls",
          "model_name": "FloatProgressModel",
          "model_module_version": "1.5.0",
          "state": {
            "_dom_classes": [],
            "_model_module": "@jupyter-widgets/controls",
            "_model_module_version": "1.5.0",
            "_model_name": "FloatProgressModel",
            "_view_count": null,
            "_view_module": "@jupyter-widgets/controls",
            "_view_module_version": "1.5.0",
            "_view_name": "ProgressView",
            "bar_style": "success",
            "description": "",
            "description_tooltip": null,
            "layout": "IPY_MODEL_8e07712ea4014524b2510cb7d7b9699b",
            "max": 872,
            "min": 0,
            "orientation": "horizontal",
            "style": "IPY_MODEL_ca1ef47bebec4c4190031fa3025ec4c3",
            "value": 872
          }
        },
        "3ce14d95cdcb4502a708f69b0c82ca49": {
          "model_module": "@jupyter-widgets/controls",
          "model_name": "HTMLModel",
          "model_module_version": "1.5.0",
          "state": {
            "_dom_classes": [],
            "_model_module": "@jupyter-widgets/controls",
            "_model_module_version": "1.5.0",
            "_model_name": "HTMLModel",
            "_view_count": null,
            "_view_module": "@jupyter-widgets/controls",
            "_view_module_version": "1.5.0",
            "_view_name": "HTMLView",
            "description": "",
            "description_tooltip": null,
            "layout": "IPY_MODEL_c7001eceae2d4421ba55a33df2278fe7",
            "placeholder": "​",
            "style": "IPY_MODEL_3f634e8d581f4483b7838e3d6fff08ef",
            "value": " 872/872 [00:00&lt;00:00, 8691.93 examples/s]"
          }
        },
        "a0861d2783b9411492faf89f49a70291": {
          "model_module": "@jupyter-widgets/base",
          "model_name": "LayoutModel",
          "model_module_version": "1.2.0",
          "state": {
            "_model_module": "@jupyter-widgets/base",
            "_model_module_version": "1.2.0",
            "_model_name": "LayoutModel",
            "_view_count": null,
            "_view_module": "@jupyter-widgets/base",
            "_view_module_version": "1.2.0",
            "_view_name": "LayoutView",
            "align_content": null,
            "align_items": null,
            "align_self": null,
            "border": null,
            "bottom": null,
            "display": null,
            "flex": null,
            "flex_flow": null,
            "grid_area": null,
            "grid_auto_columns": null,
            "grid_auto_flow": null,
            "grid_auto_rows": null,
            "grid_column": null,
            "grid_gap": null,
            "grid_row": null,
            "grid_template_areas": null,
            "grid_template_columns": null,
            "grid_template_rows": null,
            "height": null,
            "justify_content": null,
            "justify_items": null,
            "left": null,
            "margin": null,
            "max_height": null,
            "max_width": null,
            "min_height": null,
            "min_width": null,
            "object_fit": null,
            "object_position": null,
            "order": null,
            "overflow": null,
            "overflow_x": null,
            "overflow_y": null,
            "padding": null,
            "right": null,
            "top": null,
            "visibility": null,
            "width": null
          }
        },
        "ed6d9ed5769642aa9cc3b553c27ae334": {
          "model_module": "@jupyter-widgets/base",
          "model_name": "LayoutModel",
          "model_module_version": "1.2.0",
          "state": {
            "_model_module": "@jupyter-widgets/base",
            "_model_module_version": "1.2.0",
            "_model_name": "LayoutModel",
            "_view_count": null,
            "_view_module": "@jupyter-widgets/base",
            "_view_module_version": "1.2.0",
            "_view_name": "LayoutView",
            "align_content": null,
            "align_items": null,
            "align_self": null,
            "border": null,
            "bottom": null,
            "display": null,
            "flex": null,
            "flex_flow": null,
            "grid_area": null,
            "grid_auto_columns": null,
            "grid_auto_flow": null,
            "grid_auto_rows": null,
            "grid_column": null,
            "grid_gap": null,
            "grid_row": null,
            "grid_template_areas": null,
            "grid_template_columns": null,
            "grid_template_rows": null,
            "height": null,
            "justify_content": null,
            "justify_items": null,
            "left": null,
            "margin": null,
            "max_height": null,
            "max_width": null,
            "min_height": null,
            "min_width": null,
            "object_fit": null,
            "object_position": null,
            "order": null,
            "overflow": null,
            "overflow_x": null,
            "overflow_y": null,
            "padding": null,
            "right": null,
            "top": null,
            "visibility": null,
            "width": null
          }
        },
        "43739cbae3ec452d96aad2eb6e66dc13": {
          "model_module": "@jupyter-widgets/controls",
          "model_name": "DescriptionStyleModel",
          "model_module_version": "1.5.0",
          "state": {
            "_model_module": "@jupyter-widgets/controls",
            "_model_module_version": "1.5.0",
            "_model_name": "DescriptionStyleModel",
            "_view_count": null,
            "_view_module": "@jupyter-widgets/base",
            "_view_module_version": "1.2.0",
            "_view_name": "StyleView",
            "description_width": ""
          }
        },
        "8e07712ea4014524b2510cb7d7b9699b": {
          "model_module": "@jupyter-widgets/base",
          "model_name": "LayoutModel",
          "model_module_version": "1.2.0",
          "state": {
            "_model_module": "@jupyter-widgets/base",
            "_model_module_version": "1.2.0",
            "_model_name": "LayoutModel",
            "_view_count": null,
            "_view_module": "@jupyter-widgets/base",
            "_view_module_version": "1.2.0",
            "_view_name": "LayoutView",
            "align_content": null,
            "align_items": null,
            "align_self": null,
            "border": null,
            "bottom": null,
            "display": null,
            "flex": null,
            "flex_flow": null,
            "grid_area": null,
            "grid_auto_columns": null,
            "grid_auto_flow": null,
            "grid_auto_rows": null,
            "grid_column": null,
            "grid_gap": null,
            "grid_row": null,
            "grid_template_areas": null,
            "grid_template_columns": null,
            "grid_template_rows": null,
            "height": null,
            "justify_content": null,
            "justify_items": null,
            "left": null,
            "margin": null,
            "max_height": null,
            "max_width": null,
            "min_height": null,
            "min_width": null,
            "object_fit": null,
            "object_position": null,
            "order": null,
            "overflow": null,
            "overflow_x": null,
            "overflow_y": null,
            "padding": null,
            "right": null,
            "top": null,
            "visibility": null,
            "width": null
          }
        },
        "ca1ef47bebec4c4190031fa3025ec4c3": {
          "model_module": "@jupyter-widgets/controls",
          "model_name": "ProgressStyleModel",
          "model_module_version": "1.5.0",
          "state": {
            "_model_module": "@jupyter-widgets/controls",
            "_model_module_version": "1.5.0",
            "_model_name": "ProgressStyleModel",
            "_view_count": null,
            "_view_module": "@jupyter-widgets/base",
            "_view_module_version": "1.2.0",
            "_view_name": "StyleView",
            "bar_color": null,
            "description_width": ""
          }
        },
        "c7001eceae2d4421ba55a33df2278fe7": {
          "model_module": "@jupyter-widgets/base",
          "model_name": "LayoutModel",
          "model_module_version": "1.2.0",
          "state": {
            "_model_module": "@jupyter-widgets/base",
            "_model_module_version": "1.2.0",
            "_model_name": "LayoutModel",
            "_view_count": null,
            "_view_module": "@jupyter-widgets/base",
            "_view_module_version": "1.2.0",
            "_view_name": "LayoutView",
            "align_content": null,
            "align_items": null,
            "align_self": null,
            "border": null,
            "bottom": null,
            "display": null,
            "flex": null,
            "flex_flow": null,
            "grid_area": null,
            "grid_auto_columns": null,
            "grid_auto_flow": null,
            "grid_auto_rows": null,
            "grid_column": null,
            "grid_gap": null,
            "grid_row": null,
            "grid_template_areas": null,
            "grid_template_columns": null,
            "grid_template_rows": null,
            "height": null,
            "justify_content": null,
            "justify_items": null,
            "left": null,
            "margin": null,
            "max_height": null,
            "max_width": null,
            "min_height": null,
            "min_width": null,
            "object_fit": null,
            "object_position": null,
            "order": null,
            "overflow": null,
            "overflow_x": null,
            "overflow_y": null,
            "padding": null,
            "right": null,
            "top": null,
            "visibility": null,
            "width": null
          }
        },
        "3f634e8d581f4483b7838e3d6fff08ef": {
          "model_module": "@jupyter-widgets/controls",
          "model_name": "DescriptionStyleModel",
          "model_module_version": "1.5.0",
          "state": {
            "_model_module": "@jupyter-widgets/controls",
            "_model_module_version": "1.5.0",
            "_model_name": "DescriptionStyleModel",
            "_view_count": null,
            "_view_module": "@jupyter-widgets/base",
            "_view_module_version": "1.2.0",
            "_view_name": "StyleView",
            "description_width": ""
          }
        }
      }
    }
  },
  "cells": [
    {
      "cell_type": "markdown",
      "source": [
        "# Attention Head Analysis of DistilBert"
      ],
      "metadata": {
        "id": "bgM6loCujUBn"
      }
    },
    {
      "cell_type": "code",
      "execution_count": 1,
      "metadata": {
        "colab": {
          "base_uri": "https://localhost:8080/"
        },
        "id": "rJb0ygkcrKzr",
        "outputId": "7afe3a48-bfeb-4d3d-81db-5f7583756929"
      },
      "outputs": [
        {
          "output_type": "stream",
          "name": "stdout",
          "text": [
            "Requirement already satisfied: transformers in /usr/local/lib/python3.10/dist-packages (4.47.0)\n",
            "Requirement already satisfied: datasets in /usr/local/lib/python3.10/dist-packages (3.2.0)\n",
            "Requirement already satisfied: nnsight in /usr/local/lib/python3.10/dist-packages (0.3.7)\n",
            "Requirement already satisfied: filelock in /usr/local/lib/python3.10/dist-packages (from transformers) (3.16.1)\n",
            "Requirement already satisfied: huggingface-hub<1.0,>=0.24.0 in /usr/local/lib/python3.10/dist-packages (from transformers) (0.26.5)\n",
            "Requirement already satisfied: numpy>=1.17 in /usr/local/lib/python3.10/dist-packages (from transformers) (1.26.4)\n",
            "Requirement already satisfied: packaging>=20.0 in /usr/local/lib/python3.10/dist-packages (from transformers) (24.2)\n",
            "Requirement already satisfied: pyyaml>=5.1 in /usr/local/lib/python3.10/dist-packages (from transformers) (6.0.2)\n",
            "Requirement already satisfied: regex!=2019.12.17 in /usr/local/lib/python3.10/dist-packages (from transformers) (2024.9.11)\n",
            "Requirement already satisfied: requests in /usr/local/lib/python3.10/dist-packages (from transformers) (2.32.3)\n",
            "Requirement already satisfied: tokenizers<0.22,>=0.21 in /usr/local/lib/python3.10/dist-packages (from transformers) (0.21.0)\n",
            "Requirement already satisfied: safetensors>=0.4.1 in /usr/local/lib/python3.10/dist-packages (from transformers) (0.4.5)\n",
            "Requirement already satisfied: tqdm>=4.27 in /usr/local/lib/python3.10/dist-packages (from transformers) (4.66.6)\n",
            "Requirement already satisfied: pyarrow>=15.0.0 in /usr/local/lib/python3.10/dist-packages (from datasets) (17.0.0)\n",
            "Requirement already satisfied: dill<0.3.9,>=0.3.0 in /usr/local/lib/python3.10/dist-packages (from datasets) (0.3.8)\n",
            "Requirement already satisfied: pandas in /usr/local/lib/python3.10/dist-packages (from datasets) (2.2.2)\n",
            "Requirement already satisfied: xxhash in /usr/local/lib/python3.10/dist-packages (from datasets) (3.5.0)\n",
            "Requirement already satisfied: multiprocess<0.70.17 in /usr/local/lib/python3.10/dist-packages (from datasets) (0.70.16)\n",
            "Requirement already satisfied: fsspec<=2024.9.0,>=2023.1.0 in /usr/local/lib/python3.10/dist-packages (from fsspec[http]<=2024.9.0,>=2023.1.0->datasets) (2024.9.0)\n",
            "Requirement already satisfied: aiohttp in /usr/local/lib/python3.10/dist-packages (from datasets) (3.11.10)\n",
            "Requirement already satisfied: protobuf in /usr/local/lib/python3.10/dist-packages (from nnsight) (4.25.5)\n",
            "Requirement already satisfied: python-socketio[client] in /usr/local/lib/python3.10/dist-packages (from nnsight) (5.11.4)\n",
            "Requirement already satisfied: pydantic>=2.9.0 in /usr/local/lib/python3.10/dist-packages (from nnsight) (2.10.3)\n",
            "Requirement already satisfied: torch>=2.4.0 in /usr/local/lib/python3.10/dist-packages (from nnsight) (2.5.1+cu121)\n",
            "Requirement already satisfied: sentencepiece in /usr/local/lib/python3.10/dist-packages (from nnsight) (0.2.0)\n",
            "Requirement already satisfied: torchvision in /usr/local/lib/python3.10/dist-packages (from nnsight) (0.20.1+cu121)\n",
            "Requirement already satisfied: accelerate in /usr/local/lib/python3.10/dist-packages (from nnsight) (1.1.1)\n",
            "Requirement already satisfied: diffusers in /usr/local/lib/python3.10/dist-packages (from nnsight) (0.31.0)\n",
            "Requirement already satisfied: einops in /usr/local/lib/python3.10/dist-packages (from nnsight) (0.8.0)\n",
            "Requirement already satisfied: aiohappyeyeballs>=2.3.0 in /usr/local/lib/python3.10/dist-packages (from aiohttp->datasets) (2.4.4)\n",
            "Requirement already satisfied: aiosignal>=1.1.2 in /usr/local/lib/python3.10/dist-packages (from aiohttp->datasets) (1.3.1)\n",
            "Requirement already satisfied: async-timeout<6.0,>=4.0 in /usr/local/lib/python3.10/dist-packages (from aiohttp->datasets) (4.0.3)\n",
            "Requirement already satisfied: attrs>=17.3.0 in /usr/local/lib/python3.10/dist-packages (from aiohttp->datasets) (24.2.0)\n",
            "Requirement already satisfied: frozenlist>=1.1.1 in /usr/local/lib/python3.10/dist-packages (from aiohttp->datasets) (1.5.0)\n",
            "Requirement already satisfied: multidict<7.0,>=4.5 in /usr/local/lib/python3.10/dist-packages (from aiohttp->datasets) (6.1.0)\n",
            "Requirement already satisfied: propcache>=0.2.0 in /usr/local/lib/python3.10/dist-packages (from aiohttp->datasets) (0.2.1)\n",
            "Requirement already satisfied: yarl<2.0,>=1.17.0 in /usr/local/lib/python3.10/dist-packages (from aiohttp->datasets) (1.18.3)\n",
            "Requirement already satisfied: typing-extensions>=3.7.4.3 in /usr/local/lib/python3.10/dist-packages (from huggingface-hub<1.0,>=0.24.0->transformers) (4.12.2)\n",
            "Requirement already satisfied: annotated-types>=0.6.0 in /usr/local/lib/python3.10/dist-packages (from pydantic>=2.9.0->nnsight) (0.7.0)\n",
            "Requirement already satisfied: pydantic-core==2.27.1 in /usr/local/lib/python3.10/dist-packages (from pydantic>=2.9.0->nnsight) (2.27.1)\n",
            "Requirement already satisfied: charset-normalizer<4,>=2 in /usr/local/lib/python3.10/dist-packages (from requests->transformers) (3.4.0)\n",
            "Requirement already satisfied: idna<4,>=2.5 in /usr/local/lib/python3.10/dist-packages (from requests->transformers) (3.10)\n",
            "Requirement already satisfied: urllib3<3,>=1.21.1 in /usr/local/lib/python3.10/dist-packages (from requests->transformers) (2.2.3)\n",
            "Requirement already satisfied: certifi>=2017.4.17 in /usr/local/lib/python3.10/dist-packages (from requests->transformers) (2024.8.30)\n",
            "Requirement already satisfied: networkx in /usr/local/lib/python3.10/dist-packages (from torch>=2.4.0->nnsight) (3.4.2)\n",
            "Requirement already satisfied: jinja2 in /usr/local/lib/python3.10/dist-packages (from torch>=2.4.0->nnsight) (3.1.4)\n",
            "Requirement already satisfied: sympy==1.13.1 in /usr/local/lib/python3.10/dist-packages (from torch>=2.4.0->nnsight) (1.13.1)\n",
            "Requirement already satisfied: mpmath<1.4,>=1.1.0 in /usr/local/lib/python3.10/dist-packages (from sympy==1.13.1->torch>=2.4.0->nnsight) (1.3.0)\n",
            "Requirement already satisfied: psutil in /usr/local/lib/python3.10/dist-packages (from accelerate->nnsight) (5.9.5)\n",
            "Requirement already satisfied: importlib-metadata in /usr/local/lib/python3.10/dist-packages (from diffusers->nnsight) (8.5.0)\n",
            "Requirement already satisfied: Pillow in /usr/local/lib/python3.10/dist-packages (from diffusers->nnsight) (11.0.0)\n",
            "Requirement already satisfied: python-dateutil>=2.8.2 in /usr/local/lib/python3.10/dist-packages (from pandas->datasets) (2.8.2)\n",
            "Requirement already satisfied: pytz>=2020.1 in /usr/local/lib/python3.10/dist-packages (from pandas->datasets) (2024.2)\n",
            "Requirement already satisfied: tzdata>=2022.7 in /usr/local/lib/python3.10/dist-packages (from pandas->datasets) (2024.2)\n",
            "Requirement already satisfied: bidict>=0.21.0 in /usr/local/lib/python3.10/dist-packages (from python-socketio[client]->nnsight) (0.23.1)\n",
            "Requirement already satisfied: python-engineio>=4.8.0 in /usr/local/lib/python3.10/dist-packages (from python-socketio[client]->nnsight) (4.10.1)\n",
            "Requirement already satisfied: websocket-client>=0.54.0 in /usr/local/lib/python3.10/dist-packages (from python-socketio[client]->nnsight) (1.8.0)\n",
            "Requirement already satisfied: six>=1.5 in /usr/local/lib/python3.10/dist-packages (from python-dateutil>=2.8.2->pandas->datasets) (1.17.0)\n",
            "Requirement already satisfied: simple-websocket>=0.10.0 in /usr/local/lib/python3.10/dist-packages (from python-engineio>=4.8.0->python-socketio[client]->nnsight) (1.1.0)\n",
            "Requirement already satisfied: zipp>=3.20 in /usr/local/lib/python3.10/dist-packages (from importlib-metadata->diffusers->nnsight) (3.21.0)\n",
            "Requirement already satisfied: MarkupSafe>=2.0 in /usr/local/lib/python3.10/dist-packages (from jinja2->torch>=2.4.0->nnsight) (3.0.2)\n",
            "Requirement already satisfied: wsproto in /usr/local/lib/python3.10/dist-packages (from simple-websocket>=0.10.0->python-engineio>=4.8.0->python-socketio[client]->nnsight) (1.2.0)\n",
            "Requirement already satisfied: h11<1,>=0.9.0 in /usr/local/lib/python3.10/dist-packages (from wsproto->simple-websocket>=0.10.0->python-engineio>=4.8.0->python-socketio[client]->nnsight) (0.14.0)\n"
          ]
        }
      ],
      "source": [
        "!pip install -U transformers datasets nnsight"
      ]
    },
    {
      "cell_type": "markdown",
      "source": [
        "### Importing the Required libraries"
      ],
      "metadata": {
        "id": "3x4N_jcCjaVo"
      }
    },
    {
      "cell_type": "code",
      "source": [
        "import torch\n",
        "import torch.nn as nn\n",
        "from transformers import DistilBertTokenizerFast, DistilBertForSequenceClassification\n",
        "from datasets import load_dataset\n",
        "from torch.utils.data import DataLoader, Subset\n",
        "import numpy as np\n",
        "import random\n",
        "import seaborn as sns\n",
        "import matplotlib.pyplot as plt\n",
        "from nnsight import LanguageModel, NNsight"
      ],
      "metadata": {
        "id": "EYzaDnJ9rTSi"
      },
      "execution_count": 2,
      "outputs": []
    },
    {
      "cell_type": "markdown",
      "source": [
        "### Data Preprocessing"
      ],
      "metadata": {
        "id": "1Q2l1n6hjeGM"
      }
    },
    {
      "cell_type": "code",
      "source": [
        "def set_seed(seed):\n",
        "    random.seed(seed)\n",
        "    np.random.seed(seed)\n",
        "    torch.manual_seed(seed)\n",
        "    torch.cuda.manual_seed_all(seed)\n",
        "\n",
        "set_seed(42)"
      ],
      "metadata": {
        "id": "m7VuHSvqrUn6"
      },
      "execution_count": 3,
      "outputs": []
    },
    {
      "cell_type": "code",
      "source": [
        "dataset = load_dataset('glue', 'sst2')\n",
        "train_subset_size = 5000\n",
        "validation_subset_size = 500\n",
        "\n",
        "# Create subsets\n",
        "train_indices = list(range(train_subset_size))\n",
        "validation_indices = list(range(validation_subset_size))\n"
      ],
      "metadata": {
        "colab": {
          "base_uri": "https://localhost:8080/"
        },
        "id": "cEuXbBl1rUkl",
        "outputId": "7e9ebfde-256e-41e8-9631-75d42a402307"
      },
      "execution_count": 4,
      "outputs": [
        {
          "output_type": "stream",
          "name": "stderr",
          "text": [
            "/usr/local/lib/python3.10/dist-packages/huggingface_hub/utils/_auth.py:94: UserWarning: \n",
            "The secret `HF_TOKEN` does not exist in your Colab secrets.\n",
            "To authenticate with the Hugging Face Hub, create a token in your settings tab (https://huggingface.co/settings/tokens), set it as secret in your Google Colab and restart your session.\n",
            "You will be able to reuse this secret in all of your notebooks.\n",
            "Please note that authentication is recommended but still optional to access public models or datasets.\n",
            "  warnings.warn(\n"
          ]
        }
      ]
    },
    {
      "cell_type": "code",
      "source": [
        "tokenizer = DistilBertTokenizerFast.from_pretrained('distilbert-base-uncased')\n",
        "\n",
        "def preprocess_function(examples):\n",
        "    return tokenizer(examples['sentence'], truncation=True, padding='max_length', max_length=128)\n",
        "\n",
        "# Apply preprocessing to the dataset\n",
        "encoded_dataset = dataset.map(preprocess_function, batched=True)\n",
        "encoded_dataset.set_format(type='torch', columns=['input_ids', 'attention_mask', 'label'])"
      ],
      "metadata": {
        "colab": {
          "base_uri": "https://localhost:8080/",
          "height": 49,
          "referenced_widgets": [
            "4a193dbe456b4bfca89915210bf1c19e",
            "40ca52587daf443487e9ffdf050fe09b",
            "c43f655ea2ff4c5cb41762af92c06492",
            "3ce14d95cdcb4502a708f69b0c82ca49",
            "a0861d2783b9411492faf89f49a70291",
            "ed6d9ed5769642aa9cc3b553c27ae334",
            "43739cbae3ec452d96aad2eb6e66dc13",
            "8e07712ea4014524b2510cb7d7b9699b",
            "ca1ef47bebec4c4190031fa3025ec4c3",
            "c7001eceae2d4421ba55a33df2278fe7",
            "3f634e8d581f4483b7838e3d6fff08ef"
          ]
        },
        "id": "HxH5VbPLrUhm",
        "outputId": "3ac0dcc4-9d70-4af1-a17f-80c8110c0a9c"
      },
      "execution_count": 5,
      "outputs": [
        {
          "output_type": "display_data",
          "data": {
            "text/plain": [
              "Map:   0%|          | 0/872 [00:00<?, ? examples/s]"
            ],
            "application/vnd.jupyter.widget-view+json": {
              "version_major": 2,
              "version_minor": 0,
              "model_id": "4a193dbe456b4bfca89915210bf1c19e"
            }
          },
          "metadata": {}
        }
      ]
    },
    {
      "cell_type": "code",
      "source": [
        "# Create subsets using Subset\n",
        "train_dataset = Subset(encoded_dataset['train'], train_indices)\n",
        "validation_dataset = Subset(encoded_dataset['validation'], validation_indices)\n",
        "\n",
        "train_dataloader = DataLoader(train_dataset, shuffle=True, batch_size=16)\n",
        "validation_dataloader = DataLoader(validation_dataset, batch_size=16)"
      ],
      "metadata": {
        "id": "EMtrWMhYrUeg"
      },
      "execution_count": 6,
      "outputs": []
    },
    {
      "cell_type": "code",
      "source": [
        "model = DistilBertForSequenceClassification.from_pretrained('distilbert-base-uncased')\n",
        "device = torch.device('cuda' if torch.cuda.is_available() else 'cpu')\n",
        "model.to(device)\n",
        "\n",
        "llm = NNsight(model)"
      ],
      "metadata": {
        "colab": {
          "base_uri": "https://localhost:8080/"
        },
        "id": "5QWla145rUbs",
        "outputId": "f2391d76-5e7f-4720-aa66-4892c16cfff0"
      },
      "execution_count": 7,
      "outputs": [
        {
          "output_type": "stream",
          "name": "stderr",
          "text": [
            "Some weights of DistilBertForSequenceClassification were not initialized from the model checkpoint at distilbert-base-uncased and are newly initialized: ['classifier.bias', 'classifier.weight', 'pre_classifier.bias', 'pre_classifier.weight']\n",
            "You should probably TRAIN this model on a down-stream task to be able to use it for predictions and inference.\n"
          ]
        }
      ]
    },
    {
      "cell_type": "markdown",
      "source": [
        "### Comptuing Head Importance of heads"
      ],
      "metadata": {
        "id": "L6vVLObWjiCT"
      }
    },
    {
      "cell_type": "code",
      "source": [
        "def compute_head_importance(llm, dataloader):\n",
        "    num_layers = model.config.num_hidden_layers\n",
        "    num_heads = model.config.num_attention_heads\n",
        "    hidden_dim = model.config.hidden_size\n",
        "    head_dim = hidden_dim // num_heads\n",
        "    head_importance = torch.zeros(num_layers, num_heads).to(device)\n",
        "    total_tokens = 0\n",
        "\n",
        "    for batch in dataloader:\n",
        "        input_ids = batch['input_ids'].to(device)\n",
        "        attention_mask = batch['attention_mask'].to(device)\n",
        "        labels = batch['label'].to(device)\n",
        "\n",
        "        model.zero_grad()\n",
        "\n",
        "        with llm.trace(input_ids, attention_mask, labels=labels) as tracer:\n",
        "            # Access attention outputs\n",
        "            attention_list = []\n",
        "            for layer_idx in range(num_layers):\n",
        "                layer = llm.distilbert.transformer.layer[layer_idx]\n",
        "                attention = layer.attention.output[0]\n",
        "                attention.requires_grad_(True)\n",
        "                attention_list.append(attention)\n",
        "\n",
        "            loss = llm.output.loss\n",
        "            loss.backward()\n",
        "\n",
        "            for layer_idx, attention in enumerate(attention_list):\n",
        "                grad = attention.grad  # Shape: (batch_size, seq_len, hidden_dim)\n",
        "                grad = grad.view(grad.size(0), grad.size(1), num_heads, head_dim)\n",
        "                grad = grad.permute(0, 2, 1, 3)\n",
        "\n",
        "                # Compute average absolute gradient\n",
        "                grad = grad.abs().mean(dim=(0, 2, 3))  # Shape: (num_heads,)\n",
        "\n",
        "                head_importance[layer_idx] += grad.detach()\n",
        "\n",
        "        total_tokens += input_ids.size(0) * input_ids.size(1)  # Batch size * seq_len\n",
        "\n",
        "    # Normalize the head importance\n",
        "    head_importance /= total_tokens\n",
        "    return head_importance.cpu()\n",
        "\n",
        "head_importance = compute_head_importance(llm, train_dataloader)"
      ],
      "metadata": {
        "id": "IFGcoQ8IrUYk"
      },
      "execution_count": 8,
      "outputs": []
    },
    {
      "cell_type": "code",
      "source": [
        "def create_head_mask(heads_to_disable):\n",
        "    head_mask = torch.ones(num_layers, num_heads)\n",
        "    for layer, head in heads_to_disable:\n",
        "        head_mask[layer, head] = 0\n",
        "    return head_mask.to(device)\n",
        "\n",
        "def evaluate_with_head_mask(model, dataloader, head_mask):\n",
        "    model.eval()\n",
        "    correct = 0\n",
        "    total = 0\n",
        "\n",
        "    with torch.no_grad():\n",
        "        for batch in dataloader:\n",
        "            input_ids = batch['input_ids'].to(device)\n",
        "            attention_mask = batch['attention_mask'].to(device)\n",
        "            labels = batch['label'].to(device)\n",
        "\n",
        "            outputs = model(input_ids, attention_mask=attention_mask, head_mask=head_mask)\n",
        "            predictions = torch.argmax(outputs.logits, dim=-1)\n",
        "            correct += (predictions == labels).sum().item()\n",
        "            total += labels.size(0)\n",
        "\n",
        "    accuracy = correct / total\n",
        "    return accuracy\n",
        "\n",
        "def evaluate(model, dataloader):\n",
        "    return evaluate_with_head_mask(model, dataloader, head_mask=None)"
      ],
      "metadata": {
        "id": "dp8FULhhrUQG"
      },
      "execution_count": 9,
      "outputs": []
    },
    {
      "cell_type": "code",
      "source": [
        "baseline_accuracy = evaluate(model, validation_dataloader)\n",
        "print(f'Baseline Validation Accuracy: {baseline_accuracy:.4f}')"
      ],
      "metadata": {
        "colab": {
          "base_uri": "https://localhost:8080/"
        },
        "id": "SlbA-zgnrUIM",
        "outputId": "680b2bc9-3e2f-4df0-f69a-a6679e41b480"
      },
      "execution_count": 10,
      "outputs": [
        {
          "output_type": "stream",
          "name": "stdout",
          "text": [
            "Baseline Validation Accuracy: 0.4000\n"
          ]
        }
      ]
    },
    {
      "cell_type": "markdown",
      "source": [
        "### Fine Tuning the Model"
      ],
      "metadata": {
        "id": "lmOHlt7OjsxA"
      }
    },
    {
      "cell_type": "code",
      "source": [
        "num_layers = model.config.n_layers\n",
        "num_heads = model.config.n_heads\n",
        "hidden_dim = model.config.dim\n",
        "head_dim = hidden_dim // num_heads\n",
        "\n",
        "optimizer = torch.optim.AdamW(model.parameters(), lr=5e-5)\n",
        "\n",
        "epochs = 5\n",
        "for epoch in range(epochs):\n",
        "    model.train()\n",
        "    for batch in train_dataloader:\n",
        "        input_ids = batch['input_ids'].to(device)\n",
        "        attention_mask = batch['attention_mask'].to(device)\n",
        "        labels = batch['label'].to(device)\n",
        "\n",
        "        outputs = model(\n",
        "            input_ids=input_ids,\n",
        "            attention_mask=attention_mask,\n",
        "            labels=labels\n",
        "        )\n",
        "        loss = outputs.loss\n",
        "        optimizer.zero_grad()\n",
        "        loss.backward()\n",
        "        optimizer.step()\n",
        "\n",
        "baseline_accuracy = evaluate(model, validation_dataloader)\n",
        "print(f'Baseline Validation Accuracy after fine tuning: {baseline_accuracy:.4f}')"
      ],
      "metadata": {
        "colab": {
          "base_uri": "https://localhost:8080/"
        },
        "id": "jNrsBWDUsK7C",
        "outputId": "5cabe19f-a702-4ab4-9b63-07c681364114"
      },
      "execution_count": 11,
      "outputs": [
        {
          "output_type": "stream",
          "name": "stdout",
          "text": [
            "Baseline Validation Accuracy after fine tuning: 0.8800\n"
          ]
        }
      ]
    },
    {
      "cell_type": "markdown",
      "source": [
        "### Getting heads from each layer"
      ],
      "metadata": {
        "id": "gt6x1KAZjx9m"
      }
    },
    {
      "cell_type": "code",
      "source": [
        "def get_top_bottom_random_heads(head_importance, K):\n",
        "    importance = head_importance.view(-1)\n",
        "    sorted_indices = torch.argsort(importance, descending=True)\n",
        "\n",
        "    topk_indices = sorted_indices[:K * num_layers]\n",
        "    bottomk_indices = sorted_indices[-K * num_layers:]\n",
        "\n",
        "    topk_heads = [(int(idx // num_heads), int(idx % num_heads)) for idx in topk_indices]\n",
        "    bottomk_heads = [(int(idx // num_heads), int(idx % num_heads)) for idx in bottomk_indices]\n",
        "\n",
        "    # For random heads\n",
        "    random_heads = []\n",
        "    for layer in range(num_layers):\n",
        "        random_indices = random.sample(range(num_heads), K)\n",
        "        random_heads.extend([(layer, head) for head in random_indices])\n",
        "\n",
        "    return topk_heads, bottomk_heads, random_heads\n"
      ],
      "metadata": {
        "id": "_lpkQRFfRPnc"
      },
      "execution_count": 12,
      "outputs": []
    },
    {
      "cell_type": "code",
      "source": [
        "def get_new_model_from_state_dict(state_dict):\n",
        "    new_model = DistilBertForSequenceClassification.from_pretrained('distilbert-base-uncased')\n",
        "    new_model.load_state_dict(state_dict, strict=True)\n",
        "    new_model.to(device)\n",
        "    return new_model\n",
        "\n",
        "def finetune_with_head_mask(original_model, train_dataloader, head_mask, device, epochs=5):\n",
        "    # Save original state dict\n",
        "    state_dict = original_model.state_dict()\n",
        "\n",
        "    # Initialize a fresh model and load state_dict\n",
        "    temp_model = get_new_model_from_state_dict(state_dict)\n",
        "    optimizer = torch.optim.AdamW(temp_model.parameters(), lr=5e-5)\n",
        "\n",
        "    temp_model.train()\n",
        "    for epoch in range(epochs):\n",
        "        for batch in train_dataloader:\n",
        "            input_ids = batch['input_ids'].to(device)\n",
        "            attention_mask = batch['attention_mask'].to(device)\n",
        "            labels = batch['label'].to(device)\n",
        "\n",
        "            outputs = temp_model(\n",
        "                input_ids=input_ids,\n",
        "                attention_mask=attention_mask,\n",
        "                labels=labels,\n",
        "                head_mask=head_mask\n",
        "            )\n",
        "            loss = outputs.loss\n",
        "            optimizer.zero_grad()\n",
        "            loss.backward()\n",
        "            optimizer.step()\n",
        "    return temp_model\n",
        "\n"
      ],
      "metadata": {
        "id": "FrwUyUyuRiHB"
      },
      "execution_count": 13,
      "outputs": []
    },
    {
      "cell_type": "markdown",
      "source": [
        "### Results of removing heads from each layer"
      ],
      "metadata": {
        "id": "YnADosi4j3_4"
      }
    },
    {
      "cell_type": "code",
      "source": [
        "results = {}\n",
        "results['baseline'] = baseline_accuracy\n",
        "\n",
        "for K in [2,4]:\n",
        "    topk_heads, bottomk_heads, random_heads = get_top_bottom_random_heads(head_importance, K)\n",
        "\n",
        "    head_mask_topk = create_head_mask(topk_heads)\n",
        "    head_mask_bottomk = create_head_mask(bottomk_heads)\n",
        "    head_mask_random = create_head_mask(random_heads)\n",
        "\n",
        "    # Fine-tune after disabling heads\n",
        "    finetuned_topk_model = finetune_with_head_mask(model, train_dataloader, head_mask_topk, device)\n",
        "    accuracy_finetuned_topk = evaluate_with_head_mask(finetuned_topk_model, validation_dataloader, head_mask_topk)\n",
        "\n",
        "    finetuned_bottomk_model = finetune_with_head_mask(model, train_dataloader, head_mask_bottomk, device)\n",
        "    accuracy_finetuned_bottomk = evaluate_with_head_mask(finetuned_bottomk_model, validation_dataloader, head_mask_bottomk)\n",
        "\n",
        "    finetuned_random_model = finetune_with_head_mask(model, train_dataloader, head_mask_random, device)\n",
        "    accuracy_finetuned_random = evaluate_with_head_mask(finetuned_random_model, validation_dataloader, head_mask_random)\n",
        "\n",
        "    results[(K, 'topk_finetuned')] = accuracy_finetuned_topk\n",
        "    results[(K, 'bottomk_finetuned')] = accuracy_finetuned_bottomk\n",
        "    results[(K, 'random_finetuned')] = accuracy_finetuned_random"
      ],
      "metadata": {
        "colab": {
          "base_uri": "https://localhost:8080/"
        },
        "id": "IphRDAWHU8eK",
        "outputId": "0db5f687-415a-456e-c2cd-878b0ea6a810"
      },
      "execution_count": 14,
      "outputs": [
        {
          "output_type": "stream",
          "name": "stderr",
          "text": [
            "Some weights of DistilBertForSequenceClassification were not initialized from the model checkpoint at distilbert-base-uncased and are newly initialized: ['classifier.bias', 'classifier.weight', 'pre_classifier.bias', 'pre_classifier.weight']\n",
            "You should probably TRAIN this model on a down-stream task to be able to use it for predictions and inference.\n",
            "DistilBertSdpaAttention is used but `torch.nn.functional.scaled_dot_product_attention` does not support `output_attentions=True` or `head_mask`. Falling back to the manual attention implementation, but specifying the manual implementation will be required from Transformers version v5.0.0 onwards. This warning can be removed using the argument `attn_implementation=\"eager\"` when loading the model.\n",
            "Some weights of DistilBertForSequenceClassification were not initialized from the model checkpoint at distilbert-base-uncased and are newly initialized: ['classifier.bias', 'classifier.weight', 'pre_classifier.bias', 'pre_classifier.weight']\n",
            "You should probably TRAIN this model on a down-stream task to be able to use it for predictions and inference.\n",
            "Some weights of DistilBertForSequenceClassification were not initialized from the model checkpoint at distilbert-base-uncased and are newly initialized: ['classifier.bias', 'classifier.weight', 'pre_classifier.bias', 'pre_classifier.weight']\n",
            "You should probably TRAIN this model on a down-stream task to be able to use it for predictions and inference.\n",
            "Some weights of DistilBertForSequenceClassification were not initialized from the model checkpoint at distilbert-base-uncased and are newly initialized: ['classifier.bias', 'classifier.weight', 'pre_classifier.bias', 'pre_classifier.weight']\n",
            "You should probably TRAIN this model on a down-stream task to be able to use it for predictions and inference.\n",
            "Some weights of DistilBertForSequenceClassification were not initialized from the model checkpoint at distilbert-base-uncased and are newly initialized: ['classifier.bias', 'classifier.weight', 'pre_classifier.bias', 'pre_classifier.weight']\n",
            "You should probably TRAIN this model on a down-stream task to be able to use it for predictions and inference.\n",
            "Some weights of DistilBertForSequenceClassification were not initialized from the model checkpoint at distilbert-base-uncased and are newly initialized: ['classifier.bias', 'classifier.weight', 'pre_classifier.bias', 'pre_classifier.weight']\n",
            "You should probably TRAIN this model on a down-stream task to be able to use it for predictions and inference.\n"
          ]
        }
      ]
    },
    {
      "cell_type": "code",
      "source": [
        "for K in [2,4]:\n",
        "    conditions = ['topk', 'bottomk', 'random']\n",
        "    finetuned_acc = [results[(K, c + '_finetuned')] for c in conditions]\n",
        "\n",
        "    x = np.arange(len(conditions))  # positions for groups\n",
        "    width = 0.4\n",
        "\n",
        "    fig, ax = plt.subplots(figsize=(8, 6))\n",
        "    rects = ax.bar(x, finetuned_acc, width, label='Fine-tuned with Heads Disabled')\n",
        "\n",
        "    ax.set_ylabel('Accuracy')\n",
        "    ax.set_title(f'Comparison of Head Disabling Strategies (K={K}) After Fine-Tuning')\n",
        "    ax.set_xticks(x)\n",
        "    ax.set_xticklabels(conditions)\n",
        "    ax.axhline(y=baseline_accuracy, color='r', linestyle='--', label='Baseline')\n",
        "    ax.legend()\n",
        "\n",
        "    def autolabel(rects):\n",
        "        for rect in rects:\n",
        "            height = rect.get_height()\n",
        "            ax.annotate(f'{height:.3f}',\n",
        "                        xy=(rect.get_x() + rect.get_width()/2, height),\n",
        "                        xytext=(0, 3),\n",
        "                        textcoords=\"offset points\",\n",
        "                        ha='center', va='bottom')\n",
        "    autolabel(rects)\n",
        "\n",
        "    plt.ylim(0.0, 1.0)\n",
        "    plt.show()"
      ],
      "metadata": {
        "colab": {
          "base_uri": "https://localhost:8080/",
          "height": 1000
        },
        "id": "9vJZ_R9qX9kG",
        "outputId": "24e11683-37b8-4eeb-9ff9-2849fb45f08b"
      },
      "execution_count": 15,
      "outputs": [
        {
          "output_type": "display_data",
          "data": {
            "text/plain": [
              "<Figure size 800x600 with 1 Axes>"
            ],
            "image/png": "[encoded data removed]"
          },
          "metadata": {}
        },
        {
          "output_type": "display_data",
          "data": {
            "text/plain": [
              "<Figure size 800x600 with 1 Axes>"
            ],
            "image/png": "[encoded data removed]"
          },
          "metadata": {}
        }
      ]
    },
    {
      "cell_type": "markdown",
      "source": [
        "## Single Headed Attention"
      ],
      "metadata": {
        "id": "WclqjD54j-xS"
      }
    },
    {
      "cell_type": "code",
      "source": [
        "class SingleHeadSelfAttention(nn.Module):\n",
        "    def __init__(self, config):\n",
        "        super().__init__()\n",
        "        self.dim = config.dim\n",
        "        self.n_heads = 1\n",
        "        self.dropout = config.attention_dropout\n",
        "        self.dim_per_head = self.dim // self.n_heads\n",
        "        assert self.dim_per_head * self.n_heads == self.dim, \"Hidden size not divisible by number of heads\"\n",
        "\n",
        "        self.q_lin = nn.Linear(self.dim, self.dim)\n",
        "        self.k_lin = nn.Linear(self.dim, self.dim)\n",
        "        self.v_lin = nn.Linear(self.dim, self.dim)\n",
        "        self.out_lin = nn.Linear(self.dim, self.dim)\n",
        "        self.scale = self.dim_per_head ** -0.5\n",
        "        self.dropout = nn.Dropout(self.dropout)\n",
        "\n",
        "    def forward(self, query, key, value, mask, head_mask=None, output_attentions=False):\n",
        "        batch_size, seq_length, _ = query.size()\n",
        "        q = self.q_lin(query).view(batch_size, seq_length, self.n_heads, self.dim_per_head).transpose(1, 2)\n",
        "        k = self.k_lin(key).view(batch_size, seq_length, self.n_heads, self.dim_per_head).transpose(1, 2)\n",
        "        v = self.v_lin(value).view(batch_size, seq_length, self.n_heads, self.dim_per_head).transpose(1, 2)\n",
        "\n",
        "        # Scaling\n",
        "        q = q / (self.dim_per_head ** 0.5)\n",
        "\n",
        "        scores = torch.matmul(q, k.transpose(-2, -1))  # (batch_size, n_heads, seq_length, seq_length)\n",
        "\n",
        "        if mask is not None:\n",
        "            if mask.dim() == 2:\n",
        "                mask = (mask == 0).unsqueeze(1).unsqueeze(2)  # (batch_size, 1, 1, seq_length)\n",
        "            elif mask.dim() == 3:\n",
        "                mask = (mask == 0).unsqueeze(1)  # (batch_size, 1, seq_length, seq_length)\n",
        "            elif mask.dim() == 4:\n",
        "                mask = (mask[:, 0, :, :] == 0).unsqueeze(1)  # (batch_size, 1, seq_length, seq_length)\n",
        "\n",
        "\n",
        "            else: # (batch_size, 1, seq_length, seq_length)\n",
        "                raise ValueError(f\"Unsupported mask shape {mask.shape}\")\n",
        "            scores = scores.masked_fill(mask, -float('inf'))\n",
        "\n",
        "\n",
        "        attn_weights = torch.softmax(scores, dim=-1)  # (batch_size, n_heads, seq_length, seq_length)\n",
        "        attn_weights = self.dropout(attn_weights)\n",
        "\n",
        "\n",
        "        if head_mask is not None:\n",
        "            attn_weights = attn_weights * head_mask\n",
        "\n",
        "        context = torch.matmul(attn_weights, v)  # (batch_size, n_heads, seq_length, dim_per_head)\n",
        "        context = context.transpose(1, 2).contiguous().view(batch_size, seq_length, self.dim)  # (batch_size, seq_length, dim)\n",
        "\n",
        "        output = self.out_lin(context)\n",
        "\n",
        "        if output_attentions:\n",
        "            return output, attn_weights\n",
        "        else:\n",
        "            return output, None\n",
        "\n",
        "# Replace attention modules with single-headed attention\n",
        "for layer in model.distilbert.transformer.layer:\n",
        "    layer.attention = SingleHeadSelfAttention(model.config).to(device)\n",
        "\n",
        "model.to(device)"
      ],
      "metadata": {
        "colab": {
          "base_uri": "https://localhost:8080/"
        },
        "id": "V8QgCT0XsKtt",
        "outputId": "9d4f4134-f1f4-4737-9328-a9c9421bbc76"
      },
      "execution_count": 16,
      "outputs": [
        {
          "output_type": "execute_result",
          "data": {
            "text/plain": [
              "DistilBertForSequenceClassification(\n",
              "  (distilbert): DistilBertModel(\n",
              "    (embeddings): Embeddings(\n",
              "      (word_embeddings): Embedding(30522, 768, padding_idx=0)\n",
              "      (position_embeddings): Embedding(512, 768)\n",
              "      (LayerNorm): LayerNorm((768,), eps=1e-12, elementwise_affine=True)\n",
              "      (dropout): Dropout(p=0.1, inplace=False)\n",
              "    )\n",
              "    (transformer): Transformer(\n",
              "      (layer): ModuleList(\n",
              "        (0-5): 6 x TransformerBlock(\n",
              "          (attention): SingleHeadSelfAttention(\n",
              "            (q_lin): Linear(in_features=768, out_features=768, bias=True)\n",
              "            (k_lin): Linear(in_features=768, out_features=768, bias=True)\n",
              "            (v_lin): Linear(in_features=768, out_features=768, bias=True)\n",
              "            (out_lin): Linear(in_features=768, out_features=768, bias=True)\n",
              "            (dropout): Dropout(p=0.1, inplace=False)\n",
              "          )\n",
              "          (sa_layer_norm): LayerNorm((768,), eps=1e-12, elementwise_affine=True)\n",
              "          (ffn): FFN(\n",
              "            (dropout): Dropout(p=0.1, inplace=False)\n",
              "            (lin1): Linear(in_features=768, out_features=3072, bias=True)\n",
              "            (lin2): Linear(in_features=3072, out_features=768, bias=True)\n",
              "            (activation): GELUActivation()\n",
              "          )\n",
              "          (output_layer_norm): LayerNorm((768,), eps=1e-12, elementwise_affine=True)\n",
              "        )\n",
              "      )\n",
              "    )\n",
              "  )\n",
              "  (pre_classifier): Linear(in_features=768, out_features=768, bias=True)\n",
              "  (classifier): Linear(in_features=768, out_features=2, bias=True)\n",
              "  (dropout): Dropout(p=0.2, inplace=False)\n",
              ")"
            ]
          },
          "metadata": {},
          "execution_count": 16
        }
      ]
    },
    {
      "cell_type": "markdown",
      "source": [
        "### Results of the single head model"
      ],
      "metadata": {
        "id": "LbfaQx2_kDN1"
      }
    },
    {
      "cell_type": "code",
      "source": [
        "epoch_values = range(1, 6)\n",
        "single_head_accuracies = []\n",
        "\n",
        "for e in epoch_values:\n",
        "    optimizer = torch.optim.AdamW(model.parameters(), lr=5e-5)\n",
        "    epochs = 5\n",
        "\n",
        "    for epoch in range(epochs):\n",
        "        model.train()\n",
        "        for batch in train_dataloader:\n",
        "            input_ids = batch['input_ids'].to(device)\n",
        "            attention_mask = batch['attention_mask'].to(device)\n",
        "            labels = batch['label'].to(device)\n",
        "\n",
        "            outputs = model(input_ids=input_ids, attention_mask=attention_mask, labels=labels)\n",
        "            loss = outputs.loss\n",
        "\n",
        "            optimizer.zero_grad()\n",
        "            loss.backward()\n",
        "            optimizer.step()\n",
        "\n",
        "    acc = evaluate(model, validation_dataloader)\n",
        "    single_head_accuracies.append(acc)\n",
        "    print(f\"Single-Headed Model: Epochs={e}, Accuracy={acc:.4f}\")"
      ],
      "metadata": {
        "colab": {
          "base_uri": "https://localhost:8080/"
        },
        "id": "ne0a1PGzsKmz",
        "outputId": "036da3de-1f9c-42df-98ec-2bc257ae5c82"
      },
      "execution_count": 17,
      "outputs": [
        {
          "output_type": "stream",
          "name": "stdout",
          "text": [
            "Single-Headed Model: Epochs=1, Accuracy=0.5300\n",
            "Single-Headed Model: Epochs=2, Accuracy=0.5300\n",
            "Single-Headed Model: Epochs=3, Accuracy=0.5300\n",
            "Single-Headed Model: Epochs=4, Accuracy=0.5300\n",
            "Single-Headed Model: Epochs=5, Accuracy=0.5300\n"
          ]
        }
      ]
    },
    {
      "cell_type": "code",
      "source": [
        "# Plot accuracy vs epochs for the single-headed model\n",
        "plt.figure(figsize=(10,6))\n",
        "plt.plot(epoch_values, single_head_accuracies, marker='o', label='Single-Headed')\n",
        "plt.title('Single-Headed Model Accuracy vs Number of Epochs')\n",
        "plt.xlabel('Epochs')\n",
        "plt.ylabel('Accuracy')\n",
        "plt.legend()\n",
        "plt.grid(True)\n",
        "plt.show()"
      ],
      "metadata": {
        "colab": {
          "base_uri": "https://localhost:8080/",
          "height": 564
        },
        "id": "0Ek17m4ZG_Il",
        "outputId": "693d2ae6-c395-4be9-87dc-e6273210af9a"
      },
      "execution_count": 18,
      "outputs": [
        {
          "output_type": "display_data",
          "data": {
            "text/plain": [
              "<Figure size 1000x600 with 1 Axes>"
            ],
            "image/png": "[encoded data removed]"
          },
          "metadata": {}
        }
      ]
    },
    {
      "cell_type": "code",
      "source": [],
      "metadata": {
        "id": "ccmUf3trHCHs"
      },
      "execution_count": 18,
      "outputs": []
    }
  ]
}